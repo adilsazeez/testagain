{
 "cells": [
  {
   "cell_type": "markdown",
   "metadata": {},
   "source": [
    "# [Doubly Linked List](https://en.wikipedia.org/wiki/Doubly_linked_list)"
   ]
  },
  {
   "cell_type": "markdown",
   "metadata": {},
   "source": [
    "<!jt -t oceans16 -tf merriserif -tfs 14 -nf ptsans -nfs 14>\n",
    "Linked List is a linear data structure.A linked list consists of nodes where each node contains a data field and a \n",
    "reference(link) to the next node in the list.Unlike arrays, linked list elements are not stored at a contiguous location; \n",
    "the elements are linked using pointers.\n",
    "[**Here is a video which will explain the basics of linked list**](https://www.youtube.com/watch?v=Ast5sKQXxEU)\n",
    "\n",
    "### What is a Doubly Linked List?\n",
    "Doubly Linked List is a variation of Linked list in which navigation is possible in both ways, either forward and backward easily as compared to Single Linked List.It contains an extra pointer, typically called previous pointer, together with next pointer and data which are there in singly linked list.\n",
    "\n",
    "<img src=\"1.png\">\n",
    "                               \n",
    "### What are the features of Doubly Linked list?\n",
    "Following is the features of doubly linked list.\n",
    "\n",
    "1. Doubly Linked List contains a link element called first and last.\n",
    "2. Each link carries a data field(s) and two link fields called next and prev.\n",
    "3. Each link is linked with its next link using its next link.\n",
    "4. Each link is linked with its previous link using its previous link.\n",
    "5. The last link carries a link as null to mark the end of the list.\n",
    "\n",
    "### What are the advantages of Doubly Linked List over Single Linked List?\n",
    "1. A DLL can be traversed in both forward and backward direction.\n",
    "2. The delete operation in DLL is more efficient if pointer to the node to be deleted is given.\n",
    "3. We can quickly insert a new node before a given node.\n",
    "\n",
    "### What are the disadvantages of Doubly Linked List over Single Linked List?\n",
    "1. Every node of DLL Require extra space for an previous pointer. It is possible to implement DLL with single pointer though (See this and this).\n",
    "2. All operations require an extra pointer previous to be maintained. For example, in insertion, we need to modify previous pointers together with next pointers. For example in following functions for insertions at different positions, we need 1 or 2 extra steps to set previous pointer."
   ]
  },
  {
   "cell_type": "markdown",
   "metadata": {},
   "source": [
    "**Go through this video to understand the basics of doubly linked list.**"
   ]
  },
  {
   "cell_type": "code",
   "execution_count": 1,
   "metadata": {},
   "outputs": [
    {
     "data": {
      "text/html": [
       "\n",
       "        <iframe\n",
       "            width=\"814\"\n",
       "            height=\"509\"\n",
       "            src=\"https://www.youtube.com/embed/sDP_pReYNEc\"\n",
       "            frameborder=\"0\"\n",
       "            allowfullscreen\n",
       "        ></iframe>\n",
       "        "
      ],
      "text/plain": [
       "<IPython.lib.display.IFrame at 0x1f7583befc8>"
      ]
     },
     "execution_count": 1,
     "metadata": {},
     "output_type": "execute_result"
    }
   ],
   "source": [
    "from IPython.display import IFrame\n",
    "IFrame(\"https://www.youtube.com/embed/sDP_pReYNEc\", width=\"814\", height=\"509\")\n",
    "\n"
   ]
  },
  {
   "cell_type": "markdown",
   "metadata": {},
   "source": [
    "### Implementing Doubly Linked List in Python (Steps)\n",
    "Python does not have linked lists in its standard library. We implement the concept of linked lists using the concept of nodes.\n",
    "\n",
    "### Creation of Doubly Linked List in Python\n",
    "In order to create a Doubly Linked List in Python, we need to first create nodes.\n",
    "\n",
    "**Creating Nodes**\n",
    "\n",
    "1.To implement a doubly linked list in Python, we need to first create nodes.\n",
    "- Each node will contain two pointers – previous and next.\n",
    "- And a data item.\n",
    "<img src=\"2.png\">\n",
    "\n",
    "**Creating the LinkedList class**\n",
    "\n",
    "1. Then create a linkedlist class that will use the node object to pass the appropriate values to point to the next data elements as well as the previous data items.\n",
    "    \n",
    "**Traversing the Linked List**\n",
    "1. Unlike Single Linked list, a doubly linked list can be traversed in forward as well as backward direction because it has a previous and next pointer.\n",
    "\n",
    "### Basic Operations of Doubly linked list\n",
    "1. Insertion\n",
    "2. Deletion\n",
    "    \n",
    "**Inserting Into Doubly Linked List**\n",
    "\n",
    "- at the beginning\n",
    "- at the middle\n",
    "- or at the end\n",
    "\n",
    "**Removing a node from Doubly Linked List**"
   ]
  },
  {
   "cell_type": "markdown",
   "metadata": {},
   "source": [
    "**1. Creating a node class**"
   ]
  },
  {
   "cell_type": "code",
   "execution_count": 16,
   "metadata": {},
   "outputs": [],
   "source": [
    "#creating a node class in order create a new node.\n",
    "\n",
    "class Node:\n",
    "    \n",
    "   def __init__(self, data):\n",
    "      self.data = data\n",
    "      self.next = None\n",
    "      self.prev = None\n"
   ]
  },
  {
   "cell_type": "markdown",
   "metadata": {},
   "source": [
    " **2. Creating a double linked list class and traversing through a DLL**"
   ]
  },
  {
   "cell_type": "code",
   "execution_count": null,
   "metadata": {},
   "outputs": [],
   "source": [
    "class doubly_linked_list:\n",
    "   def __init__(self):\n",
    "      self.head = None\n",
    "\n",
    "# Adding data elements\n",
    "\n",
    "   def push(self, NewVal):\n",
    "      NewNode = Node(NewVal)\n",
    "      NewNode.next = self.head\n",
    "      if self.head is not None:\n",
    "         self.head.prev = NewNode\n",
    "      self.head = NewNode\n",
    "\n",
    "# Print the Doubly Linked list\n",
    "\n",
    "   def listprint(self, node):\n",
    "      while (node is not None):\n",
    "         print(node.data),\n",
    "         last = node\n",
    "         node = node.next\n",
    "\n",
    "dllist = doubly_linked_list()\n",
    "dllist.push(12)\n",
    "dllist.push(8)\n",
    "dllist.push(62)\n",
    "dllist.listprint(dllist.head)\n"
   ]
  },
  {
   "cell_type": "markdown",
   "metadata": {},
   "source": [
    "**3. Inserting into DLL**\n",
    "\n",
    "- **In between the nodes**"
   ]
  },
  {
   "cell_type": "code",
   "execution_count": 18,
   "metadata": {},
   "outputs": [
    {
     "name": "stdout",
     "output_type": "stream",
     "text": [
      "62\n",
      "8\n",
      "13\n",
      "12\n"
     ]
    }
   ],
   "source": [
    "# Create the doubly linked list\n",
    "\n",
    "class doubly_linked_list:\n",
    "\n",
    "   def __init__(self):\n",
    "      self.head = None\n",
    "\n",
    "# Define the push method to add elements\n",
    "\n",
    "   def push(self, NewVal):\n",
    "\n",
    "      NewNode = Node(NewVal)\n",
    "      NewNode.next = self.head\n",
    "      if self.head is not None:\n",
    "         self.head.prev = NewNode\n",
    "      self.head = NewNode\n",
    "\n",
    "# Define the insert method to insert the element\n",
    "\n",
    "   def insert(self, prev_node, NewVal):\n",
    "      if prev_node is None:\n",
    "         return\n",
    "      NewNode = Node(NewVal)\n",
    "      NewNode.next = prev_node.next\n",
    "      prev_node.next = NewNode\n",
    "      NewNode.prev = prev_node\n",
    "      if NewNode.next is not None:\n",
    "         NewNode.next.prev = NewNode\n",
    "\n",
    "# Define the method to print the linked list \n",
    "\n",
    "   def listprint(self, node):\n",
    "      while (node is not None):\n",
    "         print(node.data),\n",
    "         last = node\n",
    "         node = node.next\n",
    "\n",
    "dllist = doubly_linked_list()\n",
    "dllist.push(12)\n",
    "dllist.push(8)\n",
    "dllist.push(62)\n",
    "dllist.insert(dllist.head.next, 13)\n",
    "dllist.listprint(dllist.head)"
   ]
  },
  {
   "cell_type": "markdown",
   "metadata": {},
   "source": [
    "- **At the end**"
   ]
  },
  {
   "cell_type": "code",
   "execution_count": 19,
   "metadata": {},
   "outputs": [
    {
     "name": "stdout",
     "output_type": "stream",
     "text": [
      "62\n",
      "8\n",
      "12\n",
      "9\n",
      "45\n"
     ]
    }
   ],
   "source": [
    "# Create the doubly linked list class\n",
    "\n",
    "class doubly_linked_list:\n",
    "\n",
    "   def __init__(self):\n",
    "      self.head = None\n",
    "\n",
    "# Define the push method to add elements at the begining\n",
    "\n",
    "   def push(self, NewVal):\n",
    "      NewNode = Node(NewVal)\n",
    "      NewNode.next = self.head\n",
    "      if self.head is not None:\n",
    "         self.head.prev = NewNode\n",
    "      self.head = NewNode\n",
    "\n",
    "# Define the append method to add elements at the end\n",
    "\n",
    "   def append(self, NewVal):\n",
    "\n",
    "      NewNode = Node(NewVal)\n",
    "      NewNode.next = None\n",
    "      if self.head is None:\n",
    "         NewNode.prev = None\n",
    "         self.head = NewNode\n",
    "         return\n",
    "      last = self.head\n",
    "      while (last.next is not None):\n",
    "         last = last.next\n",
    "      last.next = NewNode\n",
    "      NewNode.prev = last\n",
    "      return\n",
    "\n",
    "# Define the method to print\n",
    "\n",
    "   def listprint(self, node):\n",
    "      while (node is not None):\n",
    "         print(node.data),\n",
    "         last = node\n",
    "         node = node.next\n",
    "\n",
    "dllist = doubly_linked_list()\n",
    "dllist.push(12)\n",
    "dllist.append(9)\n",
    "dllist.push(8)\n",
    "dllist.push(62)\n",
    "dllist.append(45)\n",
    "dllist.listprint(dllist.head)"
   ]
  },
  {
   "cell_type": "markdown",
   "metadata": {},
   "source": [
    "**Removing a element from a DLL**"
   ]
  },
  {
   "cell_type": "code",
   "execution_count": 25,
   "metadata": {},
   "outputs": [
    {
     "name": "stdout",
     "output_type": "stream",
     "text": [
      "Doubly linked list before deletion:\n",
      "62 8 12 9 45 \n",
      "Doubly linked list after deletion:\n",
      "62 12 9 45 "
     ]
    }
   ],
   "source": [
    "def deleteNode(head_ref, del_): \n",
    "  \n",
    "    # base case  \n",
    "    if (head_ref == None or del_ == None): \n",
    "        return\n",
    "  \n",
    "    # If node to be deleted is head node  \n",
    "    if (head_ref == del_): \n",
    "        head_ref = del_.next\n",
    "  \n",
    "    # Change next only if node to be deleted is NOT  \n",
    "    # the last node  \n",
    "    if (del_.next != None): \n",
    "        del_.next.prev = del_.prev \n",
    "  \n",
    "    # Change prev only if node to be deleted is NOT  \n",
    "    # the first node  \n",
    "    if (del_.prev != None): \n",
    "        del_.prev.next = del_.next\n",
    "        return head_ref \n",
    "  \n",
    "\n",
    " # Function to delete the node at the given position \n",
    "# in the doubly linked list  \n",
    "def deleteNodeAtGivenPos(head_ref,n): \n",
    "  \n",
    "    # if list in None or invalid position is given  \n",
    "    if (head_ref == None or n <= 0): \n",
    "        return\n",
    "  \n",
    "    current = head_ref \n",
    "    i = 1\n",
    "  \n",
    "    # traverse up to the node at position 'n' from \n",
    "    # the beginning  \n",
    "    while ( current != None and i < n ): \n",
    "        current = current.next\n",
    "        i = i + 1\n",
    "  \n",
    "    # if 'n' is greater than the number of nodes \n",
    "    # in the doubly linked list  \n",
    "    if (current == None): \n",
    "        return\n",
    "  \n",
    "    # delete the node pointed to by 'current'  \n",
    "    deleteNode(head_ref, current) \n",
    "      \n",
    "    return head_ref \n",
    "  \n",
    "# Function to insert a node at the beginning  \n",
    "# of the Doubly Linked List  \n",
    "def push(head_ref, new_data): \n",
    "   # allocate node  \n",
    "    new_node = Node(0) \n",
    "  \n",
    "    # put in the data  \n",
    "    new_node.data = new_data \n",
    "  \n",
    "    # since we are adding at the beginning, \n",
    "    #prev is always None  \n",
    "    new_node.prev = None\n",
    "  \n",
    "    # link the old list off the new node  \n",
    "    new_node.next = (head_ref) \n",
    "  \n",
    "    # change prev of head node to new node  \n",
    "    if ((head_ref) != None): \n",
    "        (head_ref).prev = new_node \n",
    "  \n",
    "    # move the head to point to the new node  \n",
    "    (head_ref) = new_node \n",
    "      \n",
    "    return head_ref \n",
    "  \n",
    "# Function to print nodes in a given doubly \n",
    "# linked list  \n",
    "def printList(head): \n",
    "  \n",
    "    while (head != None) : \n",
    "        print( head.data ,end= \" \") \n",
    "        head = head.next\n",
    "head = None\n",
    "  \n",
    "# Create the doubly linked list 10<.8<.4<.2<.5  \n",
    "head = push(head, 45) \n",
    "head = push(head, 9) \n",
    "head = push(head, 12) \n",
    "head = push(head, 8) \n",
    "head = push(head, 62) \n",
    "  \n",
    "print(\"Doubly linked list before deletion:\") \n",
    "printList(head) \n",
    "  \n",
    "n = 2\n",
    "  \n",
    "# delete node at the given position 'n'  \n",
    "head = deleteNodeAtGivenPos(head, n) \n",
    "  \n",
    "print(\"\\nDoubly linked list after deletion:\") \n",
    "  \n",
    "printList(head) "
   ]
  },
  {
   "cell_type": "markdown",
   "metadata": {},
   "source": [
    "### Applications of Doubly Linked List (Real time application)\n",
    "1. Doubly Linked list is used by browsers to implement backward and forward navigation of visited web pages i.e. back and forward button.\n",
    "2. It is also used by various application to implement Undo and Redo functionality.\n",
    "3. It can also be used to represent deck of cards in games."
   ]
  }
 ],
 "metadata": {
  "kernelspec": {
   "display_name": "Python 3",
   "language": "python",
   "name": "python3"
  },
  "language_info": {
   "codemirror_mode": {
    "name": "ipython",
    "version": 3
   },
   "file_extension": ".py",
   "mimetype": "text/x-python",
   "name": "python",
   "nbconvert_exporter": "python",
   "pygments_lexer": "ipython3",
   "version": "3.7.6"
  }
 },
 "nbformat": 4,
 "nbformat_minor": 2
}
